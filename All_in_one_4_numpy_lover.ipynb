{
 "cells": [
  {
   "cell_type": "code",
   "execution_count": 61,
   "metadata": {
    "collapsed": true
   },
   "outputs": [],
   "source": [
    "from numpy import *\n",
    "from matplotlib import pylab as plt"
   ]
  },
  {
   "cell_type": "code",
   "execution_count": 3,
   "metadata": {
    "scrolled": true
   },
   "outputs": [
    {
     "name": "stdout",
     "output_type": "stream",
     "text": [
      "<class 'numpy.ndarray'>\n",
      "(2, 3)\n",
      "6 টি\n",
      "int64\n",
      "8 byte\n",
      "48 byte\n"
     ]
    }
   ],
   "source": [
    "y = array([\n",
    "            [1, 2, 3],\n",
    "            [4, 5, 6]\n",
    "         ])\n",
    "\n",
    "print(type(y))\n",
    "print(y.shape) #number of dimensions (row, column)\n",
    "print(y.size, 'টি') #the total number of elements of the array\n",
    "print(y.dtype) #data type\n",
    "print(y.itemsize, 'byte') #size of integer => 8 byte\n",
    "print(y.nbytes, 'byte')"
   ]
  },
  {
   "cell_type": "markdown",
   "metadata": {},
   "source": [
    "# Array Creation"
   ]
  },
  {
   "cell_type": "code",
   "execution_count": 4,
   "metadata": {},
   "outputs": [
    {
     "name": "stdout",
     "output_type": "stream",
     "text": [
      "<class 'numpy.ndarray'>\n",
      "2  dimentional array\n",
      "(3, 5)\n",
      "15 টি\n",
      "int64\n",
      "8 byte\n",
      "120 byte\n"
     ]
    }
   ],
   "source": [
    "y = arange(15)\n",
    "# y = arange(2, 15)\n",
    "# y = arange(2, 15, 5)\n",
    "\n",
    "y = y.reshape(3, 5)\n",
    "\n",
    "print(type(y))\n",
    "print(y.ndim, ' dimentional array')\n",
    "print(y.shape) #number of dimensions (row, column)\n",
    "print(y.size, 'টি') #the total number of elements of the array\n",
    "print(y.dtype) #data type\n",
    "print(y.itemsize, 'byte') #size of integer => 8 byte\n",
    "print(y.nbytes, 'byte')"
   ]
  },
  {
   "cell_type": "code",
   "execution_count": 5,
   "metadata": {},
   "outputs": [
    {
     "name": "stdout",
     "output_type": "stream",
     "text": [
      "2\n"
     ]
    }
   ],
   "source": [
    "#2D array\n",
    "y = array([(1.5,2,3), (4,5,6)])\n",
    "\n",
    "print(y.ndim)"
   ]
  },
  {
   "cell_type": "code",
   "execution_count": 6,
   "metadata": {},
   "outputs": [
    {
     "name": "stdout",
     "output_type": "stream",
     "text": [
      "[[ 0.  0.  0.  0.  0.]\n",
      " [ 0.  0.  0.  0.  0.]\n",
      " [ 0.  0.  0.  0.  0.]] \n",
      "\n",
      "[[ 1.  1.  1.  1.  1.]\n",
      " [ 1.  1.  1.  1.  1.]\n",
      " [ 1.  1.  1.  1.  1.]] \n",
      "\n",
      "[[ 0.  0.  0.  0.  0.]\n",
      " [ 0.  0.  0.  0.  0.]\n",
      " [ 0.  0.  0.  0.  0.]] \n",
      "\n"
     ]
    }
   ],
   "source": [
    "y = zeros((3, 5))\n",
    "print(y, '\\n')\n",
    "\n",
    "y = ones((3, 5))\n",
    "print(y, '\\n')\n",
    "\n",
    "y = empty((3, 5))\n",
    "print(y, '\\n')"
   ]
  },
  {
   "cell_type": "markdown",
   "metadata": {},
   "source": [
    "# Linear Algebra"
   ]
  },
  {
   "cell_type": "code",
   "execution_count": 42,
   "metadata": {},
   "outputs": [
    {
     "name": "stdout",
     "output_type": "stream",
     "text": [
      "2 \n",
      "\n",
      "2 \n",
      "\n",
      "[[ 1.  2.]\n",
      " [ 3.  4.]] \n",
      "\n",
      "Transpose Matrix : \n",
      " [[ 1.  3.]\n",
      " [ 2.  4.]] \n",
      "\n",
      "[[-2.   1. ]\n",
      " [ 1.5 -0.5]] \n",
      "\n",
      "[[ 5.  0.  0.  0.]\n",
      " [ 0.  5.  0.  0.]\n",
      " [ 0.  0.  5.  0.]\n",
      " [ 0.  0.  0.  5.]]\n",
      "20.0\n",
      "[[ 5.  0.  0.  0.]\n",
      " [ 0.  5.  0.  0.]\n",
      " [ 0.  0.  5.  0.]\n",
      " [ 0.  0.  0.  5.]] \n",
      "\n",
      "20.0 \n",
      "\n",
      "[[ 25.   0.   0.   0.]\n",
      " [  0.  25.   0.   0.]\n",
      " [  0.   0.  25.   0.]\n",
      " [  0.   0.   0.  25.]]\n",
      "[[-3.]\n",
      " [ 4.]]\n"
     ]
    }
   ],
   "source": [
    "a = array([[1.0, 2.0], [3.0, 4.0]])\n",
    "a2 = array([(1.0, 2.0), (3.0, 4.0)])\n",
    "\n",
    "print(a.ndim, '\\n')\n",
    "print(a2.ndim, '\\n')\n",
    "print(a, '\\n')\n",
    "#TRANSPOSE MATRIX\n",
    "print('Transpose Matrix : \\n', a.transpose(), '\\n')\n",
    "\n",
    "#INVERSE\n",
    "print(linalg.inv(a), '\\n')\n",
    "\n",
    "#IDENTITY MATRIX\n",
    "y = eye(4)\n",
    "\n",
    "#FANCY INDEX\n",
    "index = [0, 1, 2, 3]\n",
    "y[index, index] = 5; #replace 1 with 5\n",
    "print(y[index])\n",
    "print(trace(y)) #print the sum of diagonal\n",
    "\n",
    "\n",
    "print(y, '\\n')\n",
    "print(sum(y.diagonal()), '\\n')\n",
    "\n",
    "#DOT PRODUCT\n",
    "print(dot(y, y))\n",
    "\n",
    "y = array([[5.], [7.]])\n",
    "\n",
    "print(linalg.solve(a, y))"
   ]
  },
  {
   "cell_type": "markdown",
   "metadata": {},
   "source": [
    "# Automatic Reshaping => magic"
   ]
  },
  {
   "cell_type": "code",
   "execution_count": 49,
   "metadata": {},
   "outputs": [
    {
     "name": "stdout",
     "output_type": "stream",
     "text": [
      "[[[ 0  1  2]\n",
      "  [ 3  4  5]\n",
      "  [ 6  7  8]\n",
      "  [ 9 10 11]\n",
      "  [12 13 14]]\n",
      "\n",
      " [[15 16 17]\n",
      "  [18 19 20]\n",
      "  [21 22 23]\n",
      "  [24 25 26]\n",
      "  [27 28 29]]]\n"
     ]
    }
   ],
   "source": [
    "a = arange(30)\n",
    "a.shape = 2,-1,3  # -1 means \"whatever is needed\"\n",
    "\n",
    "#2 => row; 3 => column; 5 => internal row number\n",
    "print(a)"
   ]
  },
  {
   "cell_type": "markdown",
   "metadata": {},
   "source": [
    "# Vector Stacking"
   ]
  },
  {
   "cell_type": "code",
   "execution_count": 54,
   "metadata": {},
   "outputs": [],
   "source": [
    "x = arange(0, 10, 2)\n",
    "y = arange(5)\n",
    "\n",
    "z = vstack([x, y])\n",
    "z2 = hstack([x, y]) #flatten array or vector or table or 1D array"
   ]
  },
  {
   "cell_type": "markdown",
   "metadata": {},
   "source": [
    "# Histogram\n",
    "\n",
    "pylab.hist plots the histogram automatically, while numpy.histogram only generates the data."
   ]
  },
  {
   "cell_type": "code",
   "execution_count": 88,
   "metadata": {},
   "outputs": [
    {
     "data": {
      "image/png": "[encoded data removed]",
      "text/plain": [
       "<matplotlib.figure.Figure at 0x7f07a4a48048>"
      ]
     },
     "metadata": {},
     "output_type": "display_data"
    }
   ],
   "source": [
    "mu, sigma = 2, 0.5\n",
    "v = random.normal(mu, sigma, 10000)\n",
    "\n",
    "# Plot a normalized histogram with 50 bins\n",
    "\n",
    "plt.hist(v, bins=50, normed=1)\n",
    "plt.show()"
   ]
  },
  {
   "cell_type": "code",
   "execution_count": 89,
   "metadata": {},
   "outputs": [
    {
     "data": {
      "image/png": "[encoded data removed]",
      "text/plain": [
       "<matplotlib.figure.Figure at 0x7f07a495e6a0>"
      ]
     },
     "metadata": {},
     "output_type": "display_data"
    }
   ],
   "source": [
    "# Compute the histogram with numpy and then plot it\n",
    "(n, bins) = histogram(v, bins=50, normed=True)  # NumPy version (no plot)\n",
    "\n",
    "plt.plot(.5*(bins[1:]+bins[:-1]), n)\n",
    "\n",
    "plt.show()"
   ]
  }
 ],
 "metadata": {
  "anaconda-cloud": {},
  "kernelspec": {
   "display_name": "Python 3",
   "language": "python",
   "name": "python3"
  },
  "language_info": {
   "codemirror_mode": {
    "name": "ipython",
    "version": 3
   },
   "file_extension": ".py",
   "mimetype": "text/x-python",
   "name": "python",
   "nbconvert_exporter": "python",
   "pygments_lexer": "ipython3",
   "version": "3.7.3"
  }
 },
 "nbformat": 4,
 "nbformat_minor": 1
}
